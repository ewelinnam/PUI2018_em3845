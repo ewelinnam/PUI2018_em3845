{
 "cells": [
  {
   "cell_type": "markdown",
   "metadata": {
    "run_control": {
     "frozen": false,
     "read_only": false
    }
   },
   "source": [
    "**exercises with statsmodels OLS and WLS**\n",
    "*created by fbb November 2018*\n"
   ]
  },
  {
   "cell_type": "code",
   "execution_count": 18,
   "metadata": {
    "ExecuteTime": {
     "end_time": "2018-11-08T18:05:35.078740Z",
     "start_time": "2018-11-08T18:05:35.037891Z"
    },
    "run_control": {
     "frozen": false,
     "read_only": false
    }
   },
   "outputs": [
    {
     "name": "stdout",
     "output_type": "stream",
     "text": [
      "Populating the interactive namespace from numpy and matplotlib\n"
     ]
    },
    {
     "name": "stderr",
     "output_type": "stream",
     "text": [
      "/usr/local/Anaconda3-5.0.0-Linux-x86_64/envs/PUI2016_Python3/lib/python3.5/site-packages/matplotlib/__init__.py:800: MatplotlibDeprecationWarning: svg.embed_char_paths is deprecated and replaced with svg.fonttype; please use the latter.\n",
      "  mplDeprecation)\n"
     ]
    }
   ],
   "source": [
    "from __future__ import print_function, division\n",
    "import pylab as pl\n",
    "\n",
    "import os\n",
    "import json\n",
    "import pandas as pd\n",
    "\n",
    "import statsmodels.api as sm\n",
    "import statsmodels.formula.api as smf\n",
    "\n",
    "os.environ['PUIDATA']='/nfshome/em3845/PUIData'\n",
    "s = json.load( open(os.getenv('PUIDATA')+\"/fbb_matplotlibrc.json\") )\n",
    "pl.rcParams.update(s)\n",
    "\n",
    "%pylab inline"
   ]
  },
  {
   "cell_type": "code",
   "execution_count": 5,
   "metadata": {
    "ExecuteTime": {
     "end_time": "2018-11-08T18:05:35.950830Z",
     "start_time": "2018-11-08T18:05:35.933414Z"
    },
    "run_control": {
     "frozen": false,
     "read_only": false
    }
   },
   "outputs": [],
   "source": [
    "def errors(x):\n",
    "    return np.sqrt(x)\n",
    "    \n",
    "\n",
    "def line(a, x, b=0, errors=None):\n",
    "    '''\n",
    "    creates a line from parameters and exogenous variable\n",
    "    a: slope\n",
    "    x: exogenous variable\n",
    "    b: intercept - default 0\n",
    "    errors: add uncertainties (sqrt(N) - default True)\n",
    "    '''\n",
    "    np.random.randn(123)\n",
    "    if errors is None:\n",
    "        return a*x + b \n",
    "    else:\n",
    "        return a*x + b + np.random.randn(len(x)) * errors(x)\n",
    "    "
   ]
  },
  {
   "cell_type": "markdown",
   "metadata": {
    "run_control": {
     "frozen": false,
     "read_only": false
    }
   },
   "source": [
    "# 1. create a line with a chosen slope and intercept = 0 and plot it with uncertainties as errorbars\n",
    "\n",
    "use the functions created above"
   ]
  },
  {
   "cell_type": "code",
   "execution_count": 58,
   "metadata": {},
   "outputs": [
    {
     "data": {
      "text/plain": [
       "<matplotlib.legend.Legend at 0x7f43ed907a58>"
      ]
     },
     "execution_count": 58,
     "metadata": {},
     "output_type": "execute_result"
    },
    {
     "data": {
      "image/png": "[encoded data removed]",
      "text/plain": [
       "<matplotlib.figure.Figure at 0x7f43ed9372b0>"
      ]
     },
     "metadata": {},
     "output_type": "display_data"
    }
   ],
   "source": [
    "slope = 0.4\n",
    "x = np.linspace(10,100,100)\n",
    "y = line(slope,x,0,errors)\n",
    "fig = pl.figure(figsize=(25,15))\n",
    "ax = fig.add_subplot(222)\n",
    "ax.errorbar(x, y, yerr=errors(x), fmt='.', label = \"and some structure\")\n",
    "ax.set_xlabel('exogenous variable')\n",
    "ax.set_ylabel('endogenous variable')\n",
    "ax.legend()"
   ]
  },
  {
   "cell_type": "code",
   "execution_count": 44,
   "metadata": {
    "ExecuteTime": {
     "end_time": "2018-11-08T18:05:47.132879Z",
     "start_time": "2018-11-08T18:05:46.952667Z"
    },
    "run_control": {
     "frozen": false,
     "read_only": false
    }
   },
   "outputs": [
    {
     "data": {
      "image/png": "[encoded data removed]",
      "text/plain": [
       "<Figure size 432x288 with 1 Axes>"
      ]
     },
     "metadata": {},
     "output_type": "display_data"
    }
   ],
   "source": []
  },
  {
   "cell_type": "markdown",
   "metadata": {
    "run_control": {
     "frozen": false,
     "read_only": false
    }
   },
   "source": [
    "# 2. print y, x, and the result of applying statsmodels.api.add_constant() to x"
   ]
  },
  {
   "cell_type": "code",
   "execution_count": 59,
   "metadata": {},
   "outputs": [
    {
     "data": {
      "text/html": [
       "<div>\n",
       "<table border=\"1\" class=\"dataframe\">\n",
       "  <thead>\n",
       "    <tr style=\"text-align: right;\">\n",
       "      <th></th>\n",
       "      <th>0</th>\n",
       "      <th>1</th>\n",
       "      <th>2</th>\n",
       "      <th>3</th>\n",
       "      <th>4</th>\n",
       "      <th>5</th>\n",
       "      <th>6</th>\n",
       "      <th>7</th>\n",
       "      <th>8</th>\n",
       "      <th>9</th>\n",
       "      <th>...</th>\n",
       "      <th>90</th>\n",
       "      <th>91</th>\n",
       "      <th>92</th>\n",
       "      <th>93</th>\n",
       "      <th>94</th>\n",
       "      <th>95</th>\n",
       "      <th>96</th>\n",
       "      <th>97</th>\n",
       "      <th>98</th>\n",
       "      <th>99</th>\n",
       "    </tr>\n",
       "  </thead>\n",
       "  <tbody>\n",
       "    <tr>\n",
       "      <th>x</th>\n",
       "      <td>10</td>\n",
       "      <td>10.9091</td>\n",
       "      <td>11.8182</td>\n",
       "      <td>12.7273</td>\n",
       "      <td>13.6364</td>\n",
       "      <td>14.5455</td>\n",
       "      <td>15.4545</td>\n",
       "      <td>16.3636</td>\n",
       "      <td>17.2727</td>\n",
       "      <td>18.1818</td>\n",
       "      <td>...</td>\n",
       "      <td>91.8182</td>\n",
       "      <td>92.7273</td>\n",
       "      <td>93.6364</td>\n",
       "      <td>94.5455</td>\n",
       "      <td>95.4545</td>\n",
       "      <td>96.3636</td>\n",
       "      <td>97.2727</td>\n",
       "      <td>98.1818</td>\n",
       "      <td>99.0909</td>\n",
       "      <td>100</td>\n",
       "    </tr>\n",
       "    <tr>\n",
       "      <th>y</th>\n",
       "      <td>3.72878</td>\n",
       "      <td>5.82638</td>\n",
       "      <td>0.764376</td>\n",
       "      <td>6.33737</td>\n",
       "      <td>7.61532</td>\n",
       "      <td>10.0884</td>\n",
       "      <td>4.46683</td>\n",
       "      <td>8.72008</td>\n",
       "      <td>8.93035</td>\n",
       "      <td>7.73212</td>\n",
       "      <td>...</td>\n",
       "      <td>48.2937</td>\n",
       "      <td>35.5363</td>\n",
       "      <td>37.2987</td>\n",
       "      <td>37.7271</td>\n",
       "      <td>29.4615</td>\n",
       "      <td>17.5607</td>\n",
       "      <td>41.3651</td>\n",
       "      <td>55.7832</td>\n",
       "      <td>26.5684</td>\n",
       "      <td>40.1396</td>\n",
       "    </tr>\n",
       "    <tr>\n",
       "      <th>x constant</th>\n",
       "      <td>[1.0, 10.0]</td>\n",
       "      <td>[1.0, 10.9090909091]</td>\n",
       "      <td>[1.0, 11.8181818182]</td>\n",
       "      <td>[1.0, 12.7272727273]</td>\n",
       "      <td>[1.0, 13.6363636364]</td>\n",
       "      <td>[1.0, 14.5454545455]</td>\n",
       "      <td>[1.0, 15.4545454545]</td>\n",
       "      <td>[1.0, 16.3636363636]</td>\n",
       "      <td>[1.0, 17.2727272727]</td>\n",
       "      <td>[1.0, 18.1818181818]</td>\n",
       "      <td>...</td>\n",
       "      <td>[1.0, 91.8181818182]</td>\n",
       "      <td>[1.0, 92.7272727273]</td>\n",
       "      <td>[1.0, 93.6363636364]</td>\n",
       "      <td>[1.0, 94.5454545455]</td>\n",
       "      <td>[1.0, 95.4545454545]</td>\n",
       "      <td>[1.0, 96.3636363636]</td>\n",
       "      <td>[1.0, 97.2727272727]</td>\n",
       "      <td>[1.0, 98.1818181818]</td>\n",
       "      <td>[1.0, 99.0909090909]</td>\n",
       "      <td>[1.0, 100.0]</td>\n",
       "    </tr>\n",
       "  </tbody>\n",
       "</table>\n",
       "<p>3 rows × 100 columns</p>\n",
       "</div>"
      ],
      "text/plain": [
       "                     0                     1                     2   \\\n",
       "x                    10               10.9091               11.8182   \n",
       "y               3.72878               5.82638              0.764376   \n",
       "x constant  [1.0, 10.0]  [1.0, 10.9090909091]  [1.0, 11.8181818182]   \n",
       "\n",
       "                              3                     4                     5   \\\n",
       "x                        12.7273               13.6364               14.5455   \n",
       "y                        6.33737               7.61532               10.0884   \n",
       "x constant  [1.0, 12.7272727273]  [1.0, 13.6363636364]  [1.0, 14.5454545455]   \n",
       "\n",
       "                              6                     7                     8   \\\n",
       "x                        15.4545               16.3636               17.2727   \n",
       "y                        4.46683               8.72008               8.93035   \n",
       "x constant  [1.0, 15.4545454545]  [1.0, 16.3636363636]  [1.0, 17.2727272727]   \n",
       "\n",
       "                              9       ...                         90  \\\n",
       "x                        18.1818      ...                    91.8182   \n",
       "y                        7.73212      ...                    48.2937   \n",
       "x constant  [1.0, 18.1818181818]      ...       [1.0, 91.8181818182]   \n",
       "\n",
       "                              91                    92                    93  \\\n",
       "x                        92.7273               93.6364               94.5455   \n",
       "y                        35.5363               37.2987               37.7271   \n",
       "x constant  [1.0, 92.7272727273]  [1.0, 93.6363636364]  [1.0, 94.5454545455]   \n",
       "\n",
       "                              94                    95                    96  \\\n",
       "x                        95.4545               96.3636               97.2727   \n",
       "y                        29.4615               17.5607               41.3651   \n",
       "x constant  [1.0, 95.4545454545]  [1.0, 96.3636363636]  [1.0, 97.2727272727]   \n",
       "\n",
       "                              97                    98            99  \n",
       "x                        98.1818               99.0909           100  \n",
       "y                        55.7832               26.5684       40.1396  \n",
       "x constant  [1.0, 98.1818181818]  [1.0, 99.0909090909]  [1.0, 100.0]  \n",
       "\n",
       "[3 rows x 100 columns]"
      ]
     },
     "execution_count": 59,
     "metadata": {},
     "output_type": "execute_result"
    }
   ],
   "source": [
    "x_con = sm.add_constant(x)\n",
    "pd.DataFrame([x,y,x_con], index=['x','y','x constant'])"
   ]
  },
  {
   "cell_type": "markdown",
   "metadata": {
    "run_control": {
     "frozen": false,
     "read_only": false
    }
   },
   "source": [
    "# 3. use statsmodels.api.OLS to fit x and y \n",
    "- a. *the wrong way*: by passing x as exogenous variable\n",
    "- b. *the right way*: by passing statsmodels.api.add_constant(x) as exogenous variable\n",
    "\n",
    "# and print the model summary for each and discuss the differences"
   ]
  },
  {
   "cell_type": "code",
   "execution_count": 60,
   "metadata": {
    "ExecuteTime": {
     "end_time": "2018-11-08T17:14:00.771892Z",
     "start_time": "2018-11-08T17:14:00.720962Z"
    },
    "run_control": {
     "frozen": false,
     "read_only": false
    }
   },
   "outputs": [
    {
     "data": {
      "text/html": [
       "<table class=\"simpletable\">\n",
       "<caption>OLS Regression Results</caption>\n",
       "<tr>\n",
       "  <th>Dep. Variable:</th>            <td>y</td>        <th>  R-squared:         </th> <td>   0.915</td>\n",
       "</tr>\n",
       "<tr>\n",
       "  <th>Model:</th>                   <td>OLS</td>       <th>  Adj. R-squared:    </th> <td>   0.915</td>\n",
       "</tr>\n",
       "<tr>\n",
       "  <th>Method:</th>             <td>Least Squares</td>  <th>  F-statistic:       </th> <td>   1072.</td>\n",
       "</tr>\n",
       "<tr>\n",
       "  <th>Date:</th>             <td>Wed, 14 Nov 2018</td> <th>  Prob (F-statistic):</th> <td>6.39e-55</td>\n",
       "</tr>\n",
       "<tr>\n",
       "  <th>Time:</th>                 <td>22:13:51</td>     <th>  Log-Likelihood:    </th> <td> -340.26</td>\n",
       "</tr>\n",
       "<tr>\n",
       "  <th>No. Observations:</th>      <td>   100</td>      <th>  AIC:               </th> <td>   682.5</td>\n",
       "</tr>\n",
       "<tr>\n",
       "  <th>Df Residuals:</th>          <td>    99</td>      <th>  BIC:               </th> <td>   685.1</td>\n",
       "</tr>\n",
       "<tr>\n",
       "  <th>Df Model:</th>              <td>     1</td>      <th>                     </th>     <td> </td>   \n",
       "</tr>\n",
       "<tr>\n",
       "  <th>Covariance Type:</th>      <td>nonrobust</td>    <th>                     </th>     <td> </td>   \n",
       "</tr>\n",
       "</table>\n",
       "<table class=\"simpletable\">\n",
       "<tr>\n",
       "   <td></td>     <th>coef</th>     <th>std err</th>      <th>t</th>      <th>P>|t|</th> <th>[95.0% Conf. Int.]</th> \n",
       "</tr>\n",
       "<tr>\n",
       "  <th>x1</th> <td>    0.3926</td> <td>    0.012</td> <td>   32.747</td> <td> 0.000</td> <td>    0.369     0.416</td>\n",
       "</tr>\n",
       "</table>\n",
       "<table class=\"simpletable\">\n",
       "<tr>\n",
       "  <th>Omnibus:</th>       <td> 1.036</td> <th>  Durbin-Watson:     </th> <td>   2.205</td>\n",
       "</tr>\n",
       "<tr>\n",
       "  <th>Prob(Omnibus):</th> <td> 0.596</td> <th>  Jarque-Bera (JB):  </th> <td>   0.715</td>\n",
       "</tr>\n",
       "<tr>\n",
       "  <th>Skew:</th>          <td>-0.201</td> <th>  Prob(JB):          </th> <td>   0.699</td>\n",
       "</tr>\n",
       "<tr>\n",
       "  <th>Kurtosis:</th>      <td> 3.101</td> <th>  Cond. No.          </th> <td>    1.00</td>\n",
       "</tr>\n",
       "</table>"
      ],
      "text/plain": [
       "<class 'statsmodels.iolib.summary.Summary'>\n",
       "\"\"\"\n",
       "                            OLS Regression Results                            \n",
       "==============================================================================\n",
       "Dep. Variable:                      y   R-squared:                       0.915\n",
       "Model:                            OLS   Adj. R-squared:                  0.915\n",
       "Method:                 Least Squares   F-statistic:                     1072.\n",
       "Date:                Wed, 14 Nov 2018   Prob (F-statistic):           6.39e-55\n",
       "Time:                        22:13:51   Log-Likelihood:                -340.26\n",
       "No. Observations:                 100   AIC:                             682.5\n",
       "Df Residuals:                      99   BIC:                             685.1\n",
       "Df Model:                           1                                         \n",
       "Covariance Type:            nonrobust                                         \n",
       "==============================================================================\n",
       "                 coef    std err          t      P>|t|      [95.0% Conf. Int.]\n",
       "------------------------------------------------------------------------------\n",
       "x1             0.3926      0.012     32.747      0.000         0.369     0.416\n",
       "==============================================================================\n",
       "Omnibus:                        1.036   Durbin-Watson:                   2.205\n",
       "Prob(Omnibus):                  0.596   Jarque-Bera (JB):                0.715\n",
       "Skew:                          -0.201   Prob(JB):                        0.699\n",
       "Kurtosis:                       3.101   Cond. No.                         1.00\n",
       "==============================================================================\n",
       "\n",
       "Warnings:\n",
       "[1] Standard Errors assume that the covariance matrix of the errors is correctly specified.\n",
       "\"\"\""
      ]
     },
     "execution_count": 60,
     "metadata": {},
     "output_type": "execute_result"
    }
   ],
   "source": [
    "#THE WRONG WAY\n",
    "smfit1 = smf.OLS(y, x).fit()\n",
    "smfit1.summary()"
   ]
  },
  {
   "cell_type": "code",
   "execution_count": 61,
   "metadata": {
    "ExecuteTime": {
     "end_time": "2018-11-08T17:14:00.812856Z",
     "start_time": "2018-11-08T17:14:00.775233Z"
    },
    "run_control": {
     "frozen": false,
     "read_only": false
    }
   },
   "outputs": [
    {
     "data": {
      "text/html": [
       "<table class=\"simpletable\">\n",
       "<caption>OLS Regression Results</caption>\n",
       "<tr>\n",
       "  <th>Dep. Variable:</th>            <td>y</td>        <th>  R-squared:         </th> <td>   0.639</td>\n",
       "</tr>\n",
       "<tr>\n",
       "  <th>Model:</th>                   <td>OLS</td>       <th>  Adj. R-squared:    </th> <td>   0.635</td>\n",
       "</tr>\n",
       "<tr>\n",
       "  <th>Method:</th>             <td>Least Squares</td>  <th>  F-statistic:       </th> <td>   173.4</td>\n",
       "</tr>\n",
       "<tr>\n",
       "  <th>Date:</th>             <td>Wed, 14 Nov 2018</td> <th>  Prob (F-statistic):</th> <td>2.11e-23</td>\n",
       "</tr>\n",
       "<tr>\n",
       "  <th>Time:</th>                 <td>22:13:53</td>     <th>  Log-Likelihood:    </th> <td> -339.71</td>\n",
       "</tr>\n",
       "<tr>\n",
       "  <th>No. Observations:</th>      <td>   100</td>      <th>  AIC:               </th> <td>   683.4</td>\n",
       "</tr>\n",
       "<tr>\n",
       "  <th>Df Residuals:</th>          <td>    98</td>      <th>  BIC:               </th> <td>   688.6</td>\n",
       "</tr>\n",
       "<tr>\n",
       "  <th>Df Model:</th>              <td>     1</td>      <th>                     </th>     <td> </td>   \n",
       "</tr>\n",
       "<tr>\n",
       "  <th>Covariance Type:</th>      <td>nonrobust</td>    <th>                     </th>     <td> </td>   \n",
       "</tr>\n",
       "</table>\n",
       "<table class=\"simpletable\">\n",
       "<tr>\n",
       "    <td></td>       <th>coef</th>     <th>std err</th>      <th>t</th>      <th>P>|t|</th> <th>[95.0% Conf. Int.]</th> \n",
       "</tr>\n",
       "<tr>\n",
       "  <th>const</th> <td>    1.7649</td> <td>    1.696</td> <td>    1.041</td> <td> 0.301</td> <td>   -1.600     5.130</td>\n",
       "</tr>\n",
       "<tr>\n",
       "  <th>x1</th>    <td>    0.3665</td> <td>    0.028</td> <td>   13.168</td> <td> 0.000</td> <td>    0.311     0.422</td>\n",
       "</tr>\n",
       "</table>\n",
       "<table class=\"simpletable\">\n",
       "<tr>\n",
       "  <th>Omnibus:</th>       <td> 0.151</td> <th>  Durbin-Watson:     </th> <td>   2.230</td>\n",
       "</tr>\n",
       "<tr>\n",
       "  <th>Prob(Omnibus):</th> <td> 0.927</td> <th>  Jarque-Bera (JB):  </th> <td>   0.028</td>\n",
       "</tr>\n",
       "<tr>\n",
       "  <th>Skew:</th>          <td>-0.040</td> <th>  Prob(JB):          </th> <td>   0.986</td>\n",
       "</tr>\n",
       "<tr>\n",
       "  <th>Kurtosis:</th>      <td> 3.012</td> <th>  Cond. No.          </th> <td>    142.</td>\n",
       "</tr>\n",
       "</table>"
      ],
      "text/plain": [
       "<class 'statsmodels.iolib.summary.Summary'>\n",
       "\"\"\"\n",
       "                            OLS Regression Results                            \n",
       "==============================================================================\n",
       "Dep. Variable:                      y   R-squared:                       0.639\n",
       "Model:                            OLS   Adj. R-squared:                  0.635\n",
       "Method:                 Least Squares   F-statistic:                     173.4\n",
       "Date:                Wed, 14 Nov 2018   Prob (F-statistic):           2.11e-23\n",
       "Time:                        22:13:53   Log-Likelihood:                -339.71\n",
       "No. Observations:                 100   AIC:                             683.4\n",
       "Df Residuals:                      98   BIC:                             688.6\n",
       "Df Model:                           1                                         \n",
       "Covariance Type:            nonrobust                                         \n",
       "==============================================================================\n",
       "                 coef    std err          t      P>|t|      [95.0% Conf. Int.]\n",
       "------------------------------------------------------------------------------\n",
       "const          1.7649      1.696      1.041      0.301        -1.600     5.130\n",
       "x1             0.3665      0.028     13.168      0.000         0.311     0.422\n",
       "==============================================================================\n",
       "Omnibus:                        0.151   Durbin-Watson:                   2.230\n",
       "Prob(Omnibus):                  0.927   Jarque-Bera (JB):                0.028\n",
       "Skew:                          -0.040   Prob(JB):                        0.986\n",
       "Kurtosis:                       3.012   Cond. No.                         142.\n",
       "==============================================================================\n",
       "\n",
       "Warnings:\n",
       "[1] Standard Errors assume that the covariance matrix of the errors is correctly specified.\n",
       "\"\"\""
      ]
     },
     "execution_count": 61,
     "metadata": {},
     "output_type": "execute_result"
    }
   ],
   "source": [
    "#THE RIGHT WAY\n",
    "smfit = smf.OLS(y, x_con).fit()\n",
    "smfit.summary()"
   ]
  },
  {
   "cell_type": "markdown",
   "metadata": {
    "run_control": {
     "frozen": false,
     "read_only": false
    }
   },
   "source": [
    "# 4. plot the data (as points) and both statsmodels fits"
   ]
  },
  {
   "cell_type": "code",
   "execution_count": 63,
   "metadata": {},
   "outputs": [
    {
     "data": {
      "text/plain": [
       "<matplotlib.legend.Legend at 0x7f43ed82eb00>"
      ]
     },
     "execution_count": 63,
     "metadata": {},
     "output_type": "execute_result"
    },
    {
     "data": {
      "image/png": "[encoded data removed]",
      "text/plain": [
       "<matplotlib.figure.Figure at 0x7f43ed86be10>"
      ]
     },
     "metadata": {},
     "output_type": "display_data"
    }
   ],
   "source": [
    "fig = pl.figure(figsize=(25,15))\n",
    "ax = fig.add_subplot(221)\n",
    "ax.plot(x,y, 'o', label=\"True data points with noise\")\n",
    "ax.plot(x, smfit1.predict(x),'r', label='The wrong way regression fit')\n",
    "ax.plot(x, smfit.predict(x_con),'g',label='The right way regression fit')\n",
    "ax.set_ylabel('Y value')\n",
    "ax.set_xlabel('X value')\n",
    "ax.legend()"
   ]
  },
  {
   "cell_type": "markdown",
   "metadata": {
    "run_control": {
     "frozen": false,
     "read_only": false
    }
   },
   "source": [
    "# 5. create a line with a chosen slope and a chosen intercept >=100*slope and plot it with uncertainties as errorbars"
   ]
  },
  {
   "cell_type": "code",
   "execution_count": 68,
   "metadata": {},
   "outputs": [
    {
     "data": {
      "text/plain": [
       "<matplotlib.legend.Legend at 0x7f43ed7924a8>"
      ]
     },
     "execution_count": 68,
     "metadata": {},
     "output_type": "execute_result"
    },
    {
     "data": {
      "image/png": "[encoded data removed]",
      "text/plain": [
       "<matplotlib.figure.Figure at 0x7f43ed7e3cc0>"
      ]
     },
     "metadata": {},
     "output_type": "display_data"
    }
   ],
   "source": [
    "slope = 1.2\n",
    "x = np.linspace(10,100,100)\n",
    "b = 100*slope\n",
    "y = line(slope,x,b,errors)\n",
    "fig = pl.figure(figsize=(25,15))\n",
    "ax = fig.add_subplot(222)\n",
    "ax.errorbar(x, y, yerr=errors(x), fmt='.', label = \"and some structure\")\n",
    "ax.set_xlabel('exogenous variable')\n",
    "ax.set_ylabel('endogenous variable')\n",
    "ax.legend()"
   ]
  },
  {
   "cell_type": "markdown",
   "metadata": {
    "run_control": {
     "frozen": false,
     "read_only": false
    }
   },
   "source": [
    "# 6. repeat step 3"
   ]
  },
  {
   "cell_type": "code",
   "execution_count": 69,
   "metadata": {},
   "outputs": [
    {
     "name": "stdout",
     "output_type": "stream",
     "text": [
      "                            OLS Regression Results                            \n",
      "==============================================================================\n",
      "Dep. Variable:                      y   R-squared:                       0.943\n",
      "Model:                            OLS   Adj. R-squared:                  0.943\n",
      "Method:                 Least Squares   F-statistic:                     1627.\n",
      "Date:                Wed, 14 Nov 2018   Prob (F-statistic):           7.76e-63\n",
      "Time:                        22:19:55   Log-Likelihood:                -346.72\n",
      "No. Observations:                 100   AIC:                             697.4\n",
      "Df Residuals:                      98   BIC:                             702.6\n",
      "Df Model:                           1                                         \n",
      "Covariance Type:            nonrobust                                         \n",
      "==============================================================================\n",
      "                 coef    std err          t      P>|t|      [95.0% Conf. Int.]\n",
      "------------------------------------------------------------------------------\n",
      "const        121.1085      1.819     66.581      0.000       117.499   124.718\n",
      "x1             1.2038      0.030     40.331      0.000         1.145     1.263\n",
      "==============================================================================\n",
      "Omnibus:                        0.982   Durbin-Watson:                   2.325\n",
      "Prob(Omnibus):                  0.612   Jarque-Bera (JB):                0.821\n",
      "Skew:                          -0.222   Prob(JB):                        0.663\n",
      "Kurtosis:                       2.977   Cond. No.                         142.\n",
      "==============================================================================\n",
      "\n",
      "Warnings:\n",
      "[1] Standard Errors assume that the covariance matrix of the errors is correctly specified.\n",
      "                            OLS Regression Results                            \n",
      "==============================================================================\n",
      "Dep. Variable:                      y   R-squared:                       0.923\n",
      "Model:                            OLS   Adj. R-squared:                  0.922\n",
      "Method:                 Least Squares   F-statistic:                     1188.\n",
      "Date:                Wed, 14 Nov 2018   Prob (F-statistic):           5.96e-57\n",
      "Time:                        22:19:55   Log-Likelihood:                -538.40\n",
      "No. Observations:                 100   AIC:                             1079.\n",
      "Df Residuals:                      99   BIC:                             1081.\n",
      "Df Model:                           1                                         \n",
      "Covariance Type:            nonrobust                                         \n",
      "==============================================================================\n",
      "                 coef    std err          t      P>|t|      [95.0% Conf. Int.]\n",
      "------------------------------------------------------------------------------\n",
      "x1             2.9975      0.087     34.471      0.000         2.825     3.170\n",
      "==============================================================================\n",
      "Omnibus:                       28.156   Durbin-Watson:                   0.051\n",
      "Prob(Omnibus):                  0.000   Jarque-Bera (JB):                5.641\n",
      "Skew:                          -0.037   Prob(JB):                       0.0596\n",
      "Kurtosis:                       1.839   Cond. No.                         1.00\n",
      "==============================================================================\n",
      "\n",
      "Warnings:\n",
      "[1] Standard Errors assume that the covariance matrix of the errors is correctly specified.\n"
     ]
    }
   ],
   "source": [
    "#THE RIGHT WAY\n",
    "smfit = smf.OLS(y, x_con).fit()\n",
    "print(smfit.summary())\n",
    "#THE WRONG WAY\n",
    "smfit1 = smf.OLS(y, x).fit()\n",
    "print(smfit1.summary())"
   ]
  },
  {
   "cell_type": "markdown",
   "metadata": {
    "run_control": {
     "frozen": false,
     "read_only": false
    }
   },
   "source": [
    "# 7. now fit the data with WLS weighted least square, a linear fit that takes into account the uncertainties by \"down-weighting\" (considering less important) observations with large uncertainties"
   ]
  },
  {
   "cell_type": "markdown",
   "metadata": {
    "ExecuteTime": {
     "end_time": "2018-11-08T17:02:55.249878Z",
     "start_time": "2018-11-08T17:02:55.203641Z"
    },
    "run_control": {
     "frozen": false,
     "read_only": false
    }
   },
   "source": [
    "you should at this point ask: how can I create weights from my uncertainties? The answer, as often is the case, is not unique. But a rule of thumb is that the weights would be the _inverse_ (remember: larger error must mean smaller weight) of the variance, with is the standard deviation square. Look at the error() function I create and design your weights array according to this rule"
   ]
  },
  {
   "cell_type": "code",
   "execution_count": 76,
   "metadata": {
    "ExecuteTime": {
     "end_time": "2018-11-08T17:14:01.661927Z",
     "start_time": "2018-11-08T17:14:01.633175Z"
    },
    "run_control": {
     "frozen": false,
     "read_only": false
    }
   },
   "outputs": [
    {
     "data": {
      "text/html": [
       "<table class=\"simpletable\">\n",
       "<caption>WLS Regression Results</caption>\n",
       "<tr>\n",
       "  <th>Dep. Variable:</th>            <td>y</td>        <th>  R-squared:         </th> <td>   0.930</td>\n",
       "</tr>\n",
       "<tr>\n",
       "  <th>Model:</th>                   <td>WLS</td>       <th>  Adj. R-squared:    </th> <td>   0.929</td>\n",
       "</tr>\n",
       "<tr>\n",
       "  <th>Method:</th>             <td>Least Squares</td>  <th>  F-statistic:       </th> <td>   1305.</td>\n",
       "</tr>\n",
       "<tr>\n",
       "  <th>Date:</th>             <td>Wed, 14 Nov 2018</td> <th>  Prob (F-statistic):</th> <td>1.96e-58</td>\n",
       "</tr>\n",
       "<tr>\n",
       "  <th>Time:</th>                 <td>22:28:10</td>     <th>  Log-Likelihood:    </th> <td> -354.55</td>\n",
       "</tr>\n",
       "<tr>\n",
       "  <th>No. Observations:</th>      <td>   100</td>      <th>  AIC:               </th> <td>   713.1</td>\n",
       "</tr>\n",
       "<tr>\n",
       "  <th>Df Residuals:</th>          <td>    98</td>      <th>  BIC:               </th> <td>   718.3</td>\n",
       "</tr>\n",
       "<tr>\n",
       "  <th>Df Model:</th>              <td>     1</td>      <th>                     </th>     <td> </td>   \n",
       "</tr>\n",
       "<tr>\n",
       "  <th>Covariance Type:</th>      <td>nonrobust</td>    <th>                     </th>     <td> </td>   \n",
       "</tr>\n",
       "</table>\n",
       "<table class=\"simpletable\">\n",
       "<tr>\n",
       "    <td></td>       <th>coef</th>     <th>std err</th>      <th>t</th>      <th>P>|t|</th> <th>[95.0% Conf. Int.]</th> \n",
       "</tr>\n",
       "<tr>\n",
       "  <th>const</th> <td>  121.1157</td> <td>    2.224</td> <td>   54.455</td> <td> 0.000</td> <td>  116.702   125.529</td>\n",
       "</tr>\n",
       "<tr>\n",
       "  <th>x1</th>    <td>    1.2037</td> <td>    0.033</td> <td>   36.119</td> <td> 0.000</td> <td>    1.138     1.270</td>\n",
       "</tr>\n",
       "</table>\n",
       "<table class=\"simpletable\">\n",
       "<tr>\n",
       "  <th>Omnibus:</th>       <td> 2.500</td> <th>  Durbin-Watson:     </th> <td>   2.386</td>\n",
       "</tr>\n",
       "<tr>\n",
       "  <th>Prob(Omnibus):</th> <td> 0.287</td> <th>  Jarque-Bera (JB):  </th> <td>   1.879</td>\n",
       "</tr>\n",
       "<tr>\n",
       "  <th>Skew:</th>          <td>-0.256</td> <th>  Prob(JB):          </th> <td>   0.391</td>\n",
       "</tr>\n",
       "<tr>\n",
       "  <th>Kurtosis:</th>      <td> 3.435</td> <th>  Cond. No.          </th> <td>    179.</td>\n",
       "</tr>\n",
       "</table>"
      ],
      "text/plain": [
       "<class 'statsmodels.iolib.summary.Summary'>\n",
       "\"\"\"\n",
       "                            WLS Regression Results                            \n",
       "==============================================================================\n",
       "Dep. Variable:                      y   R-squared:                       0.930\n",
       "Model:                            WLS   Adj. R-squared:                  0.929\n",
       "Method:                 Least Squares   F-statistic:                     1305.\n",
       "Date:                Wed, 14 Nov 2018   Prob (F-statistic):           1.96e-58\n",
       "Time:                        22:28:10   Log-Likelihood:                -354.55\n",
       "No. Observations:                 100   AIC:                             713.1\n",
       "Df Residuals:                      98   BIC:                             718.3\n",
       "Df Model:                           1                                         \n",
       "Covariance Type:            nonrobust                                         \n",
       "==============================================================================\n",
       "                 coef    std err          t      P>|t|      [95.0% Conf. Int.]\n",
       "------------------------------------------------------------------------------\n",
       "const        121.1157      2.224     54.455      0.000       116.702   125.529\n",
       "x1             1.2037      0.033     36.119      0.000         1.138     1.270\n",
       "==============================================================================\n",
       "Omnibus:                        2.500   Durbin-Watson:                   2.386\n",
       "Prob(Omnibus):                  0.287   Jarque-Bera (JB):                1.879\n",
       "Skew:                          -0.256   Prob(JB):                        0.391\n",
       "Kurtosis:                       3.435   Cond. No.                         179.\n",
       "==============================================================================\n",
       "\n",
       "Warnings:\n",
       "[1] Standard Errors assume that the covariance matrix of the errors is correctly specified.\n",
       "\"\"\""
      ]
     },
     "execution_count": 76,
     "metadata": {},
     "output_type": "execute_result"
    }
   ],
   "source": [
    "# I decided to use the errors function and multiply it by constant to increase the magnitude\n",
    "weights = errors(x)*10\n",
    "rm = sm.WLS(y, x_con,weights)\n",
    "reg = rm.fit()\n",
    "reg.summary()"
   ]
  },
  {
   "cell_type": "markdown",
   "metadata": {},
   "source": [
    "# Note: you can also use other statsmodels functions, for example statsmodels.formula.api which allows to pass an equation\n",
    "again, make sure that your formula supports an intercept (no deliverable for this portion, it's up to you to explore the use of this function)"
   ]
  },
  {
   "cell_type": "code",
   "execution_count": 78,
   "metadata": {
    "ExecuteTime": {
     "end_time": "2018-11-08T17:43:22.172119Z",
     "start_time": "2018-11-08T17:43:21.914280Z"
    }
   },
   "outputs": [
    {
     "data": {
      "image/png": "[encoded data removed]",
      "text/plain": [
       "<matplotlib.figure.Figure at 0x7f43ed6fef98>"
      ]
     },
     "metadata": {},
     "output_type": "display_data"
    }
   ],
   "source": [
    "# statsmodels.formula.api accepts dictionaris, pandas dataframes, and python rec arrays as input: \n",
    "# all data types that host data paired with labels\n",
    "smfmodel = smf.ols('y ~ x + const', data={'x':x, 'y':y, 'const':np.ones(len(x))}).fit()\n",
    "smfitDoneRight = smf.ols('y ~ x + const', data={'x':x_con, 'y':y, 'const':np.ones(len(x))}).fit()\n",
    "pl.errorbar(x, y, yerr=errors(x), fmt='.')\n",
    "pl.plot(x, smfitDoneRight.fittedvalues, '-', label=\"sm.OLS\")\n",
    "pl.plot(x, smfmodel.fittedvalues, '-', label=\"smf.ols\")\n",
    "pl.xlabel(\"exogenous\")\n",
    "pl.ylabel(\"endogenous\")\n",
    "pl.legend();"
   ]
  },
  {
   "cell_type": "code",
   "execution_count": null,
   "metadata": {},
   "outputs": [],
   "source": []
  }
 ],
 "metadata": {
  "kernelspec": {
   "display_name": "PUI2016_Python3",
   "language": "python",
   "name": "pui2016_python3"
  },
  "language_info": {
   "codemirror_mode": {
    "name": "ipython",
    "version": 3
   },
   "file_extension": ".py",
   "mimetype": "text/x-python",
   "name": "python",
   "nbconvert_exporter": "python",
   "pygments_lexer": "ipython3",
   "version": "3.5.4"
  },
  "toc": {
   "colors": {
    "hover_highlight": "#DAA520",
    "running_highlight": "#FF0000",
    "selected_highlight": "#FFD700"
   },
   "moveMenuLeft": true,
   "nav_menu": {
    "height": "12px",
    "width": "252px"
   },
   "navigate_menu": true,
   "number_sections": true,
   "sideBar": true,
   "threshold": 4,
   "toc_cell": false,
   "toc_section_display": "block",
   "toc_window_display": false
  }
 },
 "nbformat": 4,
 "nbformat_minor": 2
}
